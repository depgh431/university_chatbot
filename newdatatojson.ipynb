{
 "cells": [
  {
   "cell_type": "code",
   "execution_count": 1,
   "metadata": {},
   "outputs": [],
   "source": [
    "import pandas as pd\n",
    "df=pd.read_excel('final.xlsx')"
   ]
  },
  {
   "cell_type": "code",
   "execution_count": 2,
   "metadata": {},
   "outputs": [],
   "source": [
    "df2=pd.read_csv('newdata.csv')"
   ]
  },
  {
   "cell_type": "code",
   "execution_count": 3,
   "metadata": {},
   "outputs": [],
   "source": [
    "df3=pd.concat([df,df2],axis=1,join='inner')"
   ]
  },
  {
   "cell_type": "code",
   "execution_count": 4,
   "metadata": {},
   "outputs": [
    {
     "data": {
      "text/html": [
       "<div>\n",
       "<style scoped>\n",
       "    .dataframe tbody tr th:only-of-type {\n",
       "        vertical-align: middle;\n",
       "    }\n",
       "\n",
       "    .dataframe tbody tr th {\n",
       "        vertical-align: top;\n",
       "    }\n",
       "\n",
       "    .dataframe thead th {\n",
       "        text-align: right;\n",
       "    }\n",
       "</style>\n",
       "<table border=\"1\" class=\"dataframe\">\n",
       "  <thead>\n",
       "    <tr style=\"text-align: right;\">\n",
       "      <th></th>\n",
       "      <th>Unnamed: 0</th>\n",
       "      <th>level_0</th>\n",
       "      <th>index</th>\n",
       "      <th>cluster</th>\n",
       "      <th>Queries</th>\n",
       "      <th>Answers</th>\n",
       "      <th>assignedTo</th>\n",
       "      <th>ticketId</th>\n",
       "      <th>tickeStatus</th>\n",
       "      <th>category</th>\n",
       "      <th>description</th>\n",
       "      <th>completedDate</th>\n",
       "      <th>lastComment</th>\n",
       "    </tr>\n",
       "  </thead>\n",
       "  <tbody>\n",
       "    <tr>\n",
       "      <th>0</th>\n",
       "      <td>0</td>\n",
       "      <td>0</td>\n",
       "      <td>0</td>\n",
       "      <td>4</td>\n",
       "      <td>Respected Sir,\\n\\nGood Afternoon, I would like...</td>\n",
       "      <td>Dear Student, you are requested to kindly refe...</td>\n",
       "      <td>nikhil.mishra@bennett.edu.in</td>\n",
       "      <td>e21cseu0123@bennett.edu.in_2022-08-07_05-50-00</td>\n",
       "      <td>CLOSED</td>\n",
       "      <td>Category2</td>\n",
       "      <td>Respected Sir,Good Afternoon, I would like to ...</td>\n",
       "      <td>2022-08-07 00:00:00+00:00</td>\n",
       "      <td>STAFF</td>\n",
       "    </tr>\n",
       "    <tr>\n",
       "      <th>1</th>\n",
       "      <td>1</td>\n",
       "      <td>1</td>\n",
       "      <td>2</td>\n",
       "      <td>11</td>\n",
       "      <td>l</td>\n",
       "      <td>Dear Student,  Kindly share the query.</td>\n",
       "      <td>kamal.singh@bennett.edu.in</td>\n",
       "      <td>E20CSE474@bennett.edu.in_2022-08-07_05-54-25</td>\n",
       "      <td>CLOSED</td>\n",
       "      <td>Category14</td>\n",
       "      <td>l</td>\n",
       "      <td>2022-08-08 00:00:00+00:00</td>\n",
       "      <td>ASSIGNED</td>\n",
       "    </tr>\n",
       "    <tr>\n",
       "      <th>2</th>\n",
       "      <td>2</td>\n",
       "      <td>2</td>\n",
       "      <td>3</td>\n",
       "      <td>4</td>\n",
       "      <td>batch change</td>\n",
       "      <td>Dear Student kimdly refer to the mail shared b...</td>\n",
       "      <td>nikhil.mishra@bennett.edu.in</td>\n",
       "      <td>E21CSEU0939@bennett.edu.in_2022-08-07_05-55-21</td>\n",
       "      <td>CLOSED</td>\n",
       "      <td>Category2</td>\n",
       "      <td>no friends</td>\n",
       "      <td>2022-08-07 00:00:00+00:00</td>\n",
       "      <td>STAFF</td>\n",
       "    </tr>\n",
       "    <tr>\n",
       "      <th>3</th>\n",
       "      <td>3</td>\n",
       "      <td>3</td>\n",
       "      <td>4</td>\n",
       "      <td>4</td>\n",
       "      <td>I want to change my batch</td>\n",
       "      <td>Dear Student, kindly refer to the mail shared ...</td>\n",
       "      <td>nikhil.mishra@bennett.edu.in</td>\n",
       "      <td>E21CSEU0921@bennett.edu.in_2022-08-07_05-56-27</td>\n",
       "      <td>CLOSED</td>\n",
       "      <td>Category2</td>\n",
       "      <td>batch change</td>\n",
       "      <td>2022-08-07 00:00:00+00:00</td>\n",
       "      <td>STAFF</td>\n",
       "    </tr>\n",
       "    <tr>\n",
       "      <th>4</th>\n",
       "      <td>4</td>\n",
       "      <td>4</td>\n",
       "      <td>5</td>\n",
       "      <td>4</td>\n",
       "      <td>batch Change</td>\n",
       "      <td>Dear Student kindly refer to the mail shared b...</td>\n",
       "      <td>nikhil.mishra@bennett.edu.in</td>\n",
       "      <td>E21CSEU0083@bennett.edu.in_2022-08-07_06-00-36</td>\n",
       "      <td>CLOSED</td>\n",
       "      <td>Category2</td>\n",
       "      <td>I want to change my batch</td>\n",
       "      <td>2022-08-07 00:00:00+00:00</td>\n",
       "      <td>STAFF</td>\n",
       "    </tr>\n",
       "    <tr>\n",
       "      <th>...</th>\n",
       "      <td>...</td>\n",
       "      <td>...</td>\n",
       "      <td>...</td>\n",
       "      <td>...</td>\n",
       "      <td>...</td>\n",
       "      <td>...</td>\n",
       "      <td>...</td>\n",
       "      <td>...</td>\n",
       "      <td>...</td>\n",
       "      <td>...</td>\n",
       "      <td>...</td>\n",
       "      <td>...</td>\n",
       "      <td>...</td>\n",
       "    </tr>\n",
       "    <tr>\n",
       "      <th>580</th>\n",
       "      <td>580</td>\n",
       "      <td>580</td>\n",
       "      <td>1000</td>\n",
       "      <td>0</td>\n",
       "      <td>form is filled</td>\n",
       "      <td>Dear Student,\\n\\nAs per your request your cour...</td>\n",
       "      <td>nikhil.mishra@bennett.edu.in</td>\n",
       "      <td>e21cseu0067@bennett.edu.in_2023-01-20_08-13-56</td>\n",
       "      <td>CLOSED</td>\n",
       "      <td>Category5</td>\n",
       "      <td>Academic Fee is paid and Courses are Registere...</td>\n",
       "      <td>2023-01-24 00:00:00+00:00</td>\n",
       "      <td>STAFF</td>\n",
       "    </tr>\n",
       "    <tr>\n",
       "      <th>581</th>\n",
       "      <td>581</td>\n",
       "      <td>581</td>\n",
       "      <td>1001</td>\n",
       "      <td>17</td>\n",
       "      <td>May I please know where the deadline for chang...</td>\n",
       "      <td>Yes, in the mail itself shared by registry dep...</td>\n",
       "      <td>nikhil.mishra@bennett.edu.in</td>\n",
       "      <td>e21cseu0413@bennett.edu.in_2023-01-20_08-15-28</td>\n",
       "      <td>CLOSED</td>\n",
       "      <td>Category5</td>\n",
       "      <td>2 courses - CSET301 and CSET487 are not visibl...</td>\n",
       "      <td>2023-01-24 00:00:00+00:00</td>\n",
       "      <td>STAFF</td>\n",
       "    </tr>\n",
       "    <tr>\n",
       "      <th>582</th>\n",
       "      <td>582</td>\n",
       "      <td>582</td>\n",
       "      <td>1002</td>\n",
       "      <td>11</td>\n",
       "      <td>regarding fees</td>\n",
       "      <td>Dear Student,\\nFor any Query related to Financ...</td>\n",
       "      <td>nikhil.mishra@bennett.edu.in</td>\n",
       "      <td>E21CSEU0756@bennett.edu.in_2023-01-20_08-50-21</td>\n",
       "      <td>CLOSED</td>\n",
       "      <td>Category16</td>\n",
       "      <td>course registration</td>\n",
       "      <td>2023-01-24 00:00:00+00:00</td>\n",
       "      <td>STAFF</td>\n",
       "    </tr>\n",
       "    <tr>\n",
       "      <th>583</th>\n",
       "      <td>583</td>\n",
       "      <td>583</td>\n",
       "      <td>1004</td>\n",
       "      <td>14</td>\n",
       "      <td>It's an online internship so I don't think tha...</td>\n",
       "      <td>Kindly share the requisition letter from the o...</td>\n",
       "      <td>nikhil.mishra@bennett.edu.in</td>\n",
       "      <td>E21CSEU0756@bennett.edu.in_2023-01-20_08-50-26</td>\n",
       "      <td>CLOSED</td>\n",
       "      <td>Category16</td>\n",
       "      <td>course registration</td>\n",
       "      <td>2023-01-24 00:00:00+00:00</td>\n",
       "      <td>STAFF</td>\n",
       "    </tr>\n",
       "    <tr>\n",
       "      <th>584</th>\n",
       "      <td>584</td>\n",
       "      <td>584</td>\n",
       "      <td>1005</td>\n",
       "      <td>3</td>\n",
       "      <td>ICIE282M: Understanding Markets and Customers,...</td>\n",
       "      <td>Dear Student,\\n\\nyou can drop your course by f...</td>\n",
       "      <td>nikhil.mishra@bennett.edu.in</td>\n",
       "      <td>e21cseu0090@bennett.edu.in_2023-01-20_10-21-29</td>\n",
       "      <td>CLOSED</td>\n",
       "      <td>Category2</td>\n",
       "      <td>I want to switch batches to EB09, since i have...</td>\n",
       "      <td>2023-01-23 00:00:00+00:00</td>\n",
       "      <td>STAFF</td>\n",
       "    </tr>\n",
       "  </tbody>\n",
       "</table>\n",
       "<p>585 rows × 13 columns</p>\n",
       "</div>"
      ],
      "text/plain": [
       "     Unnamed: 0  level_0  index  cluster  \\\n",
       "0             0        0      0        4   \n",
       "1             1        1      2       11   \n",
       "2             2        2      3        4   \n",
       "3             3        3      4        4   \n",
       "4             4        4      5        4   \n",
       "..          ...      ...    ...      ...   \n",
       "580         580      580   1000        0   \n",
       "581         581      581   1001       17   \n",
       "582         582      582   1002       11   \n",
       "583         583      583   1004       14   \n",
       "584         584      584   1005        3   \n",
       "\n",
       "                                               Queries  \\\n",
       "0    Respected Sir,\\n\\nGood Afternoon, I would like...   \n",
       "1                                                    l   \n",
       "2                                        batch change    \n",
       "3                            I want to change my batch   \n",
       "4                                         batch Change   \n",
       "..                                                 ...   \n",
       "580                                     form is filled   \n",
       "581  May I please know where the deadline for chang...   \n",
       "582                                     regarding fees   \n",
       "583  It's an online internship so I don't think tha...   \n",
       "584  ICIE282M: Understanding Markets and Customers,...   \n",
       "\n",
       "                                               Answers  \\\n",
       "0    Dear Student, you are requested to kindly refe...   \n",
       "1               Dear Student,  Kindly share the query.   \n",
       "2    Dear Student kimdly refer to the mail shared b...   \n",
       "3    Dear Student, kindly refer to the mail shared ...   \n",
       "4    Dear Student kindly refer to the mail shared b...   \n",
       "..                                                 ...   \n",
       "580  Dear Student,\\n\\nAs per your request your cour...   \n",
       "581  Yes, in the mail itself shared by registry dep...   \n",
       "582  Dear Student,\\nFor any Query related to Financ...   \n",
       "583  Kindly share the requisition letter from the o...   \n",
       "584  Dear Student,\\n\\nyou can drop your course by f...   \n",
       "\n",
       "                       assignedTo  \\\n",
       "0    nikhil.mishra@bennett.edu.in   \n",
       "1      kamal.singh@bennett.edu.in   \n",
       "2    nikhil.mishra@bennett.edu.in   \n",
       "3    nikhil.mishra@bennett.edu.in   \n",
       "4    nikhil.mishra@bennett.edu.in   \n",
       "..                            ...   \n",
       "580  nikhil.mishra@bennett.edu.in   \n",
       "581  nikhil.mishra@bennett.edu.in   \n",
       "582  nikhil.mishra@bennett.edu.in   \n",
       "583  nikhil.mishra@bennett.edu.in   \n",
       "584  nikhil.mishra@bennett.edu.in   \n",
       "\n",
       "                                           ticketId tickeStatus    category  \\\n",
       "0    e21cseu0123@bennett.edu.in_2022-08-07_05-50-00      CLOSED   Category2   \n",
       "1      E20CSE474@bennett.edu.in_2022-08-07_05-54-25      CLOSED  Category14   \n",
       "2    E21CSEU0939@bennett.edu.in_2022-08-07_05-55-21      CLOSED   Category2   \n",
       "3    E21CSEU0921@bennett.edu.in_2022-08-07_05-56-27      CLOSED   Category2   \n",
       "4    E21CSEU0083@bennett.edu.in_2022-08-07_06-00-36      CLOSED   Category2   \n",
       "..                                              ...         ...         ...   \n",
       "580  e21cseu0067@bennett.edu.in_2023-01-20_08-13-56      CLOSED   Category5   \n",
       "581  e21cseu0413@bennett.edu.in_2023-01-20_08-15-28      CLOSED   Category5   \n",
       "582  E21CSEU0756@bennett.edu.in_2023-01-20_08-50-21      CLOSED  Category16   \n",
       "583  E21CSEU0756@bennett.edu.in_2023-01-20_08-50-26      CLOSED  Category16   \n",
       "584  e21cseu0090@bennett.edu.in_2023-01-20_10-21-29      CLOSED   Category2   \n",
       "\n",
       "                                           description  \\\n",
       "0    Respected Sir,Good Afternoon, I would like to ...   \n",
       "1                                                    l   \n",
       "2                                           no friends   \n",
       "3                                         batch change   \n",
       "4                            I want to change my batch   \n",
       "..                                                 ...   \n",
       "580  Academic Fee is paid and Courses are Registere...   \n",
       "581  2 courses - CSET301 and CSET487 are not visibl...   \n",
       "582                               course registration    \n",
       "583                               course registration    \n",
       "584  I want to switch batches to EB09, since i have...   \n",
       "\n",
       "                 completedDate lastComment  \n",
       "0    2022-08-07 00:00:00+00:00       STAFF  \n",
       "1    2022-08-08 00:00:00+00:00    ASSIGNED  \n",
       "2    2022-08-07 00:00:00+00:00       STAFF  \n",
       "3    2022-08-07 00:00:00+00:00       STAFF  \n",
       "4    2022-08-07 00:00:00+00:00       STAFF  \n",
       "..                         ...         ...  \n",
       "580  2023-01-24 00:00:00+00:00       STAFF  \n",
       "581  2023-01-24 00:00:00+00:00       STAFF  \n",
       "582  2023-01-24 00:00:00+00:00       STAFF  \n",
       "583  2023-01-24 00:00:00+00:00       STAFF  \n",
       "584  2023-01-23 00:00:00+00:00       STAFF  \n",
       "\n",
       "[585 rows x 13 columns]"
      ]
     },
     "execution_count": 4,
     "metadata": {},
     "output_type": "execute_result"
    }
   ],
   "source": [
    "df3"
   ]
  },
  {
   "cell_type": "code",
   "execution_count": 5,
   "metadata": {},
   "outputs": [],
   "source": [
    "df3=df3.drop('level_0',axis=1)"
   ]
  },
  {
   "cell_type": "code",
   "execution_count": 6,
   "metadata": {},
   "outputs": [],
   "source": [
    "df3=df3.drop('index',axis=1)"
   ]
  },
  {
   "cell_type": "code",
   "execution_count": 7,
   "metadata": {},
   "outputs": [],
   "source": [
    "df3=df3.dropna()\n",
    "df3=df3.drop_duplicates()"
   ]
  },
  {
   "cell_type": "code",
   "execution_count": 8,
   "metadata": {},
   "outputs": [],
   "source": [
    "df3=df3.reset_index()"
   ]
  },
  {
   "cell_type": "code",
   "execution_count": 9,
   "metadata": {},
   "outputs": [
    {
     "name": "stderr",
     "output_type": "stream",
     "text": [
      "C:\\Users\\devlo\\AppData\\Local\\Temp\\ipykernel_8172\\4117308156.py:2: SettingWithCopyWarning: \n",
      "A value is trying to be set on a copy of a slice from a DataFrame\n",
      "\n",
      "See the caveats in the documentation: https://pandas.pydata.org/pandas-docs/stable/user_guide/indexing.html#returning-a-view-versus-a-copy\n",
      "  df3['cluster'][x]=int(df3['category'][x][8:])\n"
     ]
    }
   ],
   "source": [
    "for x in range(len(df3)):\n",
    "    df3['cluster'][x]=int(df3['category'][x][8:])"
   ]
  },
  {
   "cell_type": "code",
   "execution_count": 10,
   "metadata": {},
   "outputs": [
    {
     "data": {
      "text/plain": [
       "array(['Category1', 'Category10', 'Category11', 'Category12',\n",
       "       'Category13', 'Category14', 'Category15', 'Category16',\n",
       "       'Category2', 'Category3', 'Category4', 'Category5', 'Category6',\n",
       "       'Category8', 'Category9'], dtype=object)"
      ]
     },
     "execution_count": 10,
     "metadata": {},
     "output_type": "execute_result"
    }
   ],
   "source": [
    "import numpy as np\n",
    "ip=np.array(df3['category'])\n",
    "np.unique(ip)"
   ]
  },
  {
   "cell_type": "code",
   "execution_count": 11,
   "metadata": {},
   "outputs": [],
   "source": [
    "l=[]\n",
    "clusters=[]\n",
    "for y in range(0,17):    \n",
    "    clusters.append(0)\n",
    "    for x in range(df3.shape[0]):\n",
    "        if int(df3['cluster'][x])==y:\n",
    "            l.append(df3.iloc[x])\n",
    "    clusters[y]=pd.DataFrame(l)\n",
    "    l=[]"
   ]
  },
  {
   "cell_type": "code",
   "execution_count": 12,
   "metadata": {},
   "outputs": [
    {
     "data": {
      "text/plain": [
       "Index(['index', 'Unnamed: 0', 'cluster', 'Queries', 'Answers', 'assignedTo',\n",
       "       'ticketId', 'tickeStatus', 'category', 'description', 'completedDate',\n",
       "       'lastComment'],\n",
       "      dtype='object')"
      ]
     },
     "execution_count": 12,
     "metadata": {},
     "output_type": "execute_result"
    }
   ],
   "source": [
    "clusters[1].keys()"
   ]
  },
  {
   "cell_type": "code",
   "execution_count": 13,
   "metadata": {},
   "outputs": [
    {
     "data": {
      "text/plain": [
       "array([ 1,  2,  3,  4,  5,  6,  8,  9, 10, 11, 12, 13, 14, 15, 16],\n",
       "      dtype=int64)"
      ]
     },
     "execution_count": 13,
     "metadata": {},
     "output_type": "execute_result"
    }
   ],
   "source": [
    "import numpy as np\n",
    "op=np.array(df3['cluster'])\n",
    "np.unique(op)"
   ]
  },
  {
   "cell_type": "code",
   "execution_count": 14,
   "metadata": {},
   "outputs": [],
   "source": [
    "pattern=[]\n",
    "responses=[]\n",
    "for x in range(1,len(clusters)):\n",
    "    if x==7:\n",
    "        continue\n",
    "    pattern.append(clusters[x]['Queries'])\n",
    "    responses.append(clusters[x]['Answers'])\n",
    "    clusters[x]"
   ]
  },
  {
   "cell_type": "code",
   "execution_count": 15,
   "metadata": {},
   "outputs": [
    {
     "data": {
      "text/plain": [
       "15"
      ]
     },
     "execution_count": 15,
     "metadata": {},
     "output_type": "execute_result"
    }
   ],
   "source": [
    "len(pattern)"
   ]
  },
  {
   "cell_type": "code",
   "execution_count": 16,
   "metadata": {},
   "outputs": [],
   "source": [
    "big_boi=dict()\n",
    "for x in range(0,len(pattern)):\n",
    "    big_boi[x]={\"Patterns\":pattern[x].to_list(),\"Responses\":responses[x].to_list()}"
   ]
  },
  {
   "cell_type": "code",
   "execution_count": 17,
   "metadata": {},
   "outputs": [],
   "source": [
    "import json\n",
    "with open('newdata.json', 'w') as jsonfile:\n",
    "    json.dump(big_boi, jsonfile)"
   ]
  },
  {
   "cell_type": "code",
   "execution_count": null,
   "metadata": {},
   "outputs": [],
   "source": []
  },
  {
   "cell_type": "code",
   "execution_count": null,
   "metadata": {},
   "outputs": [],
   "source": []
  }
 ],
 "metadata": {
  "kernelspec": {
   "display_name": "Python 3",
   "language": "python",
   "name": "python3"
  },
  "language_info": {
   "codemirror_mode": {
    "name": "ipython",
    "version": 3
   },
   "file_extension": ".py",
   "mimetype": "text/x-python",
   "name": "python",
   "nbconvert_exporter": "python",
   "pygments_lexer": "ipython3",
   "version": "3.9.0"
  },
  "orig_nbformat": 4,
  "vscode": {
   "interpreter": {
    "hash": "db95b4d968c7b7e9ee021a9de806c794ec8a8ecd3429ba0c6dc49839c5bf92df"
   }
  }
 },
 "nbformat": 4,
 "nbformat_minor": 2
}
